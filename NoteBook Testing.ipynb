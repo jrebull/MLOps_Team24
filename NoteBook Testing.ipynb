{
 "cells": [
  {
   "cell_type": "code",
   "execution_count": null,
   "id": "42913773-7df6-48df-85c4-40c534a547a9",
   "metadata": {},
   "outputs": [],
   "source": [
    "import sys, numpy, pandas as pd, sklearn, scipy, matplotlib, seaborn, mlflow\n",
    "print(\"Python:\", sys.version.split()[0])\n",
    "print(\"numpy:\", numpy.__version__)\n",
    "print(\"pandas:\", pd.__version__)\n",
    "print(\"scikit-learn:\", sklearn.__version__)\n",
    "print(\"scipy:\", scipy.__version__)\n",
    "print(\"matplotlib:\", matplotlib.__version__)\n",
    "print(\"seaborn:\", seaborn.__version__)\n",
    "print(\"mlflow:\", mlflow.__version__)"
   ]
  },
  {
   "cell_type": "code",
   "execution_count": null,
   "id": "f64db63f-e415-46a5-aea6-717341130cc7",
   "metadata": {},
   "outputs": [],
   "source": [
    "import os, pathlib, sys\n",
    "print(\"CWD:\", os.getcwd())\n",
    "print(\"Contenido:\", os.listdir())"
   ]
  },
  {
   "cell_type": "code",
   "execution_count": null,
   "id": "d114c86e-a143-4b79-b42b-838451f52683",
   "metadata": {},
   "outputs": [],
   "source": []
  },
  {
   "cell_type": "code",
   "execution_count": 1,
   "id": "2dde2ac0-0e4a-452c-8e24-d09857799a23",
   "metadata": {},
   "outputs": [
    {
     "name": "stdout",
     "output_type": "stream",
     "text": [
      "✔️ Run registrada en MLflow\n"
     ]
    },
    {
     "name": "stderr",
     "output_type": "stream",
     "text": [
      "2025/10/03 00:53:44 INFO mlflow.tracking.fluent: Experiment with name 'Equipo24-MER' does not exist. Creating a new experiment.\n"
     ]
    },
    {
     "name": "stdout",
     "output_type": "stream",
     "text": [
      "🏃 View run baseline-notebook at: http://127.0.0.1:5001/#/experiments/288635096223926413/runs/d686afa45dba4e1ea2203e7516cf8b57\n",
      "🧪 View experiment at: http://127.0.0.1:5001/#/experiments/288635096223926413\n"
     ]
    },
    {
     "ename": "NameError",
     "evalue": "name 'y_test' is not defined",
     "output_type": "error",
     "traceback": [
      "\u001b[31m---------------------------------------------------------------------------\u001b[39m",
      "\u001b[31mNameError\u001b[39m                                 Traceback (most recent call last)",
      "\u001b[36mCell\u001b[39m\u001b[36m \u001b[39m\u001b[32mIn[1]\u001b[39m\u001b[32m, line 15\u001b[39m\n\u001b[32m     12\u001b[39m mlflow.log_param(\u001b[33m\"\u001b[39m\u001b[33mfeatures\u001b[39m\u001b[33m\"\u001b[39m, \u001b[33m\"\u001b[39m\u001b[33mall_columns\u001b[39m\u001b[33m\"\u001b[39m)\n\u001b[32m     14\u001b[39m \u001b[38;5;66;03m# 👉 Ajusta y_test / y_pred según tu notebook\u001b[39;00m\n\u001b[32m---> \u001b[39m\u001b[32m15\u001b[39m acc = metrics.accuracy_score(\u001b[43my_test\u001b[49m, y_pred)\n\u001b[32m     16\u001b[39m mlflow.log_metric(\u001b[33m\"\u001b[39m\u001b[33maccuracy\u001b[39m\u001b[33m\"\u001b[39m, acc)\n\u001b[32m     18\u001b[39m \u001b[38;5;66;03m# Guarda una muestra como artifact\u001b[39;00m\n",
      "\u001b[31mNameError\u001b[39m: name 'y_test' is not defined"
     ]
    }
   ],
   "source": [
    "print(\"✔️ Run registrada en MLflow\")\n",
    "import mlflow\n",
    "from sklearn import metrics\n",
    "import pathlib\n",
    "\n",
    "# Conectar con tu MLflow local\n",
    "mlflow.set_tracking_uri(\"http://127.0.0.1:5001\")\n",
    "mlflow.set_experiment(\"Equipo24-MER\")\n",
    "\n",
    "with mlflow.start_run(run_name=\"baseline-notebook\"):\n",
    "    mlflow.log_param(\"model\", \"LogisticRegression\")   # 👉 cámbialo si usaste otro\n",
    "    mlflow.log_param(\"features\", \"all_columns\")\n",
    "\n",
    "    # 👉 Ajusta y_test / y_pred según tu notebook\n",
    "    acc = metrics.accuracy_score(y_test, y_pred)\n",
    "    mlflow.log_metric(\"accuracy\", acc)\n",
    "\n",
    "    # Guarda una muestra como artifact\n",
    "    pathlib.Path(\"artifacts\").mkdir(exist_ok=True)\n",
    "    df.head(50).to_csv(\"artifacts/sample_preview.csv\", index=False)\n",
    "    mlflow.log_artifact(\"artifacts/sample_preview.csv\")\n",
    "\n",
    "print(\"✔️ Run registrada en MLflow\")"
   ]
  },
  {
   "cell_type": "code",
   "execution_count": null,
   "id": "d1551c3a-fc32-4018-a9c1-91153ef7015b",
   "metadata": {},
   "outputs": [],
   "source": []
  },
  {
   "cell_type": "code",
   "execution_count": 3,
   "id": "cddf093d-6a97-43b2-a3bd-ba2e638c9921",
   "metadata": {},
   "outputs": [
    {
     "name": "stdout",
     "output_type": "stream",
     "text": [
      "Accuracy: 0.725\n",
      "🏃 View run baseline-local at: http://127.0.0.1:5001/#/experiments/288635096223926413/runs/db095e380a9c4b72b0259c78e9642d17\n",
      "🧪 View experiment at: http://127.0.0.1:5001/#/experiments/288635096223926413\n",
      "✔️ Run registrada en MLflow\n"
     ]
    }
   ],
   "source": [
    "# ⚠️ Asegúrate de que 'df' está en memoria y que la columna objetivo se llama \"Class\".\n",
    "# Si tu target tiene otro nombre, cámbialo donde dice target_col = \"Class\"\n",
    "\n",
    "import mlflow\n",
    "from sklearn.model_selection import train_test_split\n",
    "from sklearn.preprocessing import StandardScaler, LabelEncoder\n",
    "from sklearn.linear_model import LogisticRegression\n",
    "from sklearn import metrics\n",
    "import pandas as pd\n",
    "import numpy as np\n",
    "import pathlib\n",
    "\n",
    "import pandas as pd\n",
    "df = pd.read_csv(\"Acoustic Features.csv\")\n",
    "df.head()\n",
    "\n",
    "target_col = \"Class\"   # <-- cámbialo si tu target tiene otro nombre\n",
    "\n",
    "# --- Prep rápida ---\n",
    "y = df[target_col].copy()\n",
    "X = df.drop(columns=[target_col]).copy()\n",
    "\n",
    "# Encode etiquetas si son strings\n",
    "if y.dtype == \"object\":\n",
    "    le = LabelEncoder()\n",
    "    y = le.fit_transform(y)\n",
    "\n",
    "# Relleno simple por si hay NaN\n",
    "X = X.replace([np.inf, -np.inf], np.nan).fillna(0)\n",
    "\n",
    "X_train, X_test, y_train, y_test = train_test_split(X, y, test_size=0.2, random_state=42, stratify=y)\n",
    "\n",
    "scaler = StandardScaler()\n",
    "X_train_sc = scaler.fit_transform(X_train)\n",
    "X_test_sc  = scaler.transform(X_test)\n",
    "\n",
    "# --- Modelo baseline ---\n",
    "clf = LogisticRegression(max_iter=1000)\n",
    "clf.fit(X_train_sc, y_train)\n",
    "y_pred = clf.predict(X_test_sc)\n",
    "\n",
    "acc = metrics.accuracy_score(y_test, y_pred)\n",
    "print(\"Accuracy:\", acc)\n",
    "\n",
    "# --- Log en MLflow ---\n",
    "mlflow.set_tracking_uri(\"http://127.0.0.1:5001\")\n",
    "mlflow.set_experiment(\"Equipo24-MER\")\n",
    "\n",
    "with mlflow.start_run(run_name=\"baseline-local\"):\n",
    "    mlflow.log_param(\"model\", \"LogisticRegression\")\n",
    "    mlflow.log_param(\"scaler\", \"StandardScaler\")\n",
    "    mlflow.log_metric(\"accuracy\", float(acc))\n",
    "\n",
    "    # guarda una muestra como artefacto\n",
    "    pathlib.Path(\"artifacts\").mkdir(exist_ok=True)\n",
    "    df.head(50).to_csv(\"artifacts/sample_preview.csv\", index=False)\n",
    "    mlflow.log_artifact(\"artifacts/sample_preview.csv\")\n",
    "\n",
    "print(\"✔️ Run registrada en MLflow\")"
   ]
  },
  {
   "cell_type": "code",
   "execution_count": null,
   "id": "7f9e3317-58e9-4da2-a5ff-e411d2727946",
   "metadata": {},
   "outputs": [],
   "source": []
  }
 ],
 "metadata": {
  "kernelspec": {
   "display_name": "Python (.venv Equipo24)",
   "language": "python",
   "name": "equipo24-venv"
  },
  "language_info": {
   "codemirror_mode": {
    "name": "ipython",
    "version": 3
   },
   "file_extension": ".py",
   "mimetype": "text/x-python",
   "name": "python",
   "nbconvert_exporter": "python",
   "pygments_lexer": "ipython3",
   "version": "3.12.7"
  }
 },
 "nbformat": 4,
 "nbformat_minor": 5
}
