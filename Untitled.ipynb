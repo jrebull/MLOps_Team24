{
 "cells": [
  {
   "cell_type": "code",
   "execution_count": 3,
   "id": "42913773-7df6-48df-85c4-40c534a547a9",
   "metadata": {},
   "outputs": [
    {
     "name": "stdout",
     "output_type": "stream",
     "text": [
      "Python: 3.12.7\n",
      "numpy: 1.26.4\n",
      "pandas: 2.3.3\n",
      "scikit-learn: 1.7.2\n",
      "scipy: 1.16.2\n",
      "matplotlib: 3.10.6\n",
      "seaborn: 0.13.2\n",
      "mlflow: 3.4.0\n"
     ]
    }
   ],
   "source": [
    "import sys, numpy, pandas as pd, sklearn, scipy, matplotlib, seaborn, mlflow\n",
    "print(\"Python:\", sys.version.split()[0])\n",
    "print(\"numpy:\", numpy.__version__)\n",
    "print(\"pandas:\", pd.__version__)\n",
    "print(\"scikit-learn:\", sklearn.__version__)\n",
    "print(\"scipy:\", scipy.__version__)\n",
    "print(\"matplotlib:\", matplotlib.__version__)\n",
    "print(\"seaborn:\", seaborn.__version__)\n",
    "print(\"mlflow:\", mlflow.__version__)"
   ]
  },
  {
   "cell_type": "code",
   "execution_count": 5,
   "id": "f64db63f-e415-46a5-aea6-717341130cc7",
   "metadata": {},
   "outputs": [
    {
     "name": "stdout",
     "output_type": "stream",
     "text": [
      "CWD: /Users/haowei/Documents/MLOps/MNA_Team24/MLOps_Team24\n",
      "Contenido: ['requirements.txt', 'anaconda_projects', 'Untitled.ipynb', 'README.md', '.virtual_documents', '.venv', '.ipynb_checkpoints', '.git', 'Fase1_equipo24.ipynb']\n"
     ]
    }
   ],
   "source": [
    "import os, pathlib, sys\n",
    "print(\"CWD:\", os.getcwd())\n",
    "print(\"Contenido:\", os.listdir())"
   ]
  },
  {
   "cell_type": "code",
   "execution_count": null,
   "id": "d114c86e-a143-4b79-b42b-838451f52683",
   "metadata": {},
   "outputs": [],
   "source": []
  }
 ],
 "metadata": {
  "kernelspec": {
   "display_name": "Python (.venv Equipo24)",
   "language": "python",
   "name": "equipo24-venv"
  },
  "language_info": {
   "codemirror_mode": {
    "name": "ipython",
    "version": 3
   },
   "file_extension": ".py",
   "mimetype": "text/x-python",
   "name": "python",
   "nbconvert_exporter": "python",
   "pygments_lexer": "ipython3",
   "version": "3.12.7"
  }
 },
 "nbformat": 4,
 "nbformat_minor": 5
}
