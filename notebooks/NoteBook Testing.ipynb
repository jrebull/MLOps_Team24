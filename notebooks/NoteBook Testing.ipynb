{
 "cells": [
  {
   "cell_type": "code",
   "execution_count": null,
   "id": "0",
   "metadata": {},
   "outputs": [],
   "source": [
    "import sys, numpy, pandas as pd, sklearn, scipy, matplotlib, seaborn, mlflow\n",
    "print(\"Python:\", sys.version.split()[0])\n",
    "print(\"numpy:\", numpy.__version__)\n",
    "print(\"pandas:\", pd.__version__)\n",
    "print(\"scikit-learn:\", sklearn.__version__)\n",
    "print(\"scipy:\", scipy.__version__)\n",
    "print(\"matplotlib:\", matplotlib.__version__)\n",
    "print(\"seaborn:\", seaborn.__version__)\n",
    "print(\"mlflow:\", mlflow.__version__)"
   ]
  },
  {
   "cell_type": "code",
   "execution_count": null,
   "id": "1",
   "metadata": {},
   "outputs": [],
   "source": [
    "import os, pathlib, sys\n",
    "print(\"CWD:\", os.getcwd())\n",
    "print(\"Contenido:\", os.listdir())"
   ]
  },
  {
   "cell_type": "code",
   "execution_count": null,
   "id": "2",
   "metadata": {},
   "outputs": [],
   "source": []
  },
  {
   "cell_type": "code",
   "execution_count": null,
   "id": "3",
   "metadata": {},
   "outputs": [],
   "source": [
    "print(\"✔️ Run registrada en MLflow\")\n",
    "import mlflow\n",
    "from sklearn import metrics\n",
    "import pathlib\n",
    "\n",
    "# Conectar con tu MLflow local\n",
    "mlflow.set_tracking_uri(\"http://127.0.0.1:5001\")\n",
    "mlflow.set_experiment(\"Equipo24-MER\")\n",
    "\n",
    "with mlflow.start_run(run_name=\"baseline-notebook\"):\n",
    "    mlflow.log_param(\"model\", \"LogisticRegression\")   # 👉 cámbialo si usaste otro\n",
    "    mlflow.log_param(\"features\", \"all_columns\")\n",
    "\n",
    "    # 👉 Ajusta y_test / y_pred según tu notebook\n",
    "    acc = metrics.accuracy_score(y_test, y_pred)\n",
    "    mlflow.log_metric(\"accuracy\", acc)\n",
    "\n",
    "    # Guarda una muestra como artifact\n",
    "    pathlib.Path(\"artifacts\").mkdir(exist_ok=True)\n",
    "    df.head(50).to_csv(\"artifacts/sample_preview.csv\", index=False)\n",
    "    mlflow.log_artifact(\"artifacts/sample_preview.csv\")\n",
    "\n",
    "print(\"✔️ Run registrada en MLflow\")"
   ]
  },
  {
   "cell_type": "code",
   "execution_count": null,
   "id": "4",
   "metadata": {},
   "outputs": [],
   "source": []
  },
  {
   "cell_type": "code",
   "execution_count": null,
   "id": "5",
   "metadata": {},
   "outputs": [],
   "source": [
    "# ⚠️ Asegúrate de que 'df' está en memoria y que la columna objetivo se llama \"Class\".\n",
    "# Si tu target tiene otro nombre, cámbialo donde dice target_col = \"Class\"\n",
    "\n",
    "import mlflow\n",
    "from sklearn.model_selection import train_test_split\n",
    "from sklearn.preprocessing import StandardScaler, LabelEncoder\n",
    "from sklearn.linear_model import LogisticRegression\n",
    "from sklearn import metrics\n",
    "import pandas as pd\n",
    "import numpy as np\n",
    "import pathlib\n",
    "\n",
    "import pandas as pd\n",
    "df = pd.read_csv(\"Acoustic Features.csv\")\n",
    "df.head()\n",
    "\n",
    "target_col = \"Class\"   # <-- cámbialo si tu target tiene otro nombre\n",
    "\n",
    "# --- Prep rápida ---\n",
    "y = df[target_col].copy()\n",
    "X = df.drop(columns=[target_col]).copy()\n",
    "\n",
    "# Encode etiquetas si son strings\n",
    "if y.dtype == \"object\":\n",
    "    le = LabelEncoder()\n",
    "    y = le.fit_transform(y)\n",
    "\n",
    "# Relleno simple por si hay NaN\n",
    "X = X.replace([np.inf, -np.inf], np.nan).fillna(0)\n",
    "\n",
    "X_train, X_test, y_train, y_test = train_test_split(X, y, test_size=0.2, random_state=42, stratify=y)\n",
    "\n",
    "scaler = StandardScaler()\n",
    "X_train_sc = scaler.fit_transform(X_train)\n",
    "X_test_sc  = scaler.transform(X_test)\n",
    "\n",
    "# --- Modelo baseline ---\n",
    "clf = LogisticRegression(max_iter=1000)\n",
    "clf.fit(X_train_sc, y_train)\n",
    "y_pred = clf.predict(X_test_sc)\n",
    "\n",
    "acc = metrics.accuracy_score(y_test, y_pred)\n",
    "print(\"Accuracy:\", acc)\n",
    "\n",
    "# --- Log en MLflow ---\n",
    "mlflow.set_tracking_uri(\"http://127.0.0.1:5001\")\n",
    "mlflow.set_experiment(\"Equipo24-MER\")\n",
    "\n",
    "with mlflow.start_run(run_name=\"baseline-local\"):\n",
    "    mlflow.log_param(\"model\", \"LogisticRegression\")\n",
    "    mlflow.log_param(\"scaler\", \"StandardScaler\")\n",
    "    mlflow.log_metric(\"accuracy\", float(acc))\n",
    "\n",
    "    # guarda una muestra como artefacto\n",
    "    pathlib.Path(\"artifacts\").mkdir(exist_ok=True)\n",
    "    df.head(50).to_csv(\"artifacts/sample_preview.csv\", index=False)\n",
    "    mlflow.log_artifact(\"artifacts/sample_preview.csv\")\n",
    "\n",
    "print(\"✔️ Run registrada en MLflow\")"
   ]
  },
  {
   "cell_type": "code",
   "execution_count": null,
   "id": "6",
   "metadata": {},
   "outputs": [],
   "source": []
  }
 ],
 "metadata": {
  "kernelspec": {
   "display_name": "Python (.venv Equipo24)",
   "language": "python",
   "name": "equipo24-venv"
  },
  "language_info": {
   "codemirror_mode": {
    "name": "ipython",
    "version": 3
   },
   "file_extension": ".py",
   "mimetype": "text/x-python",
   "name": "python",
   "nbconvert_exporter": "python",
   "pygments_lexer": "ipython3",
   "version": "3.12.7"
  }
 },
 "nbformat": 4,
 "nbformat_minor": 5
}
