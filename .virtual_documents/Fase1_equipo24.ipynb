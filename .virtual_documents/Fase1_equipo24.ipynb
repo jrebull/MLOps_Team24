








import numpy as np
import pandas as pd
import matplotlib.pyplot as plt
import seaborn as sns
import os

from sklearn.model_selection import train_test_split, cross_val_score
from sklearn.preprocessing import LabelEncoder, StandardScaler
from sklearn.metrics import classification_report, confusion_matrix
from sklearn.ensemble import RandomForestClassifier
from sklearn.svm import SVC
from sklearn.linear_model import LogisticRegression
from sklearn.neural_network import MLPClassifier


# Cargamos desde PC
#$from google.colab import files
#uploaded = files.upload()

#df = pd.read_csv("Acoustic Features.csv")
#df.head()


import pandas as pd
df = pd.read_csv("Acoustic Features.csv")
df.head()











estadisticas_descriptivas = df.describe()
estadisticas_descriptivas





data_df_unique = df.nunique()
data_df_unique





data_df_missing = df.isnull().sum()
data_df_missing





sns.countplot(x='Class', data=df)
plt.show()





hist = df.hist(bins=30, sharey=True, figsize=(16, 12))
plt.tight_layout(pad=3.0)
plt.show()


#Tablas de frecuencia para cada característica categórica


for column in df.select_dtypes(include=[ 'object', 'bool']).columns:
  display(column, pd.crosstab(index=df[column], columns='% observations', normalize='columns') * 100)





data_df_numeric = df.select_dtypes(include=[np.number])

data_df_corr = data_df_numeric.corr()

plt.figure(figsize=(18,12))
sns.heatmap(data_df_corr, annot=True, linewidths=0.5)
plt.show()
