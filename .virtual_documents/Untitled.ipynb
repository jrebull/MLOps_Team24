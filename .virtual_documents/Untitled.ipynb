import sys, numpy, pandas as pd, sklearn, scipy, matplotlib, seaborn, mlflow
print("Python:", sys.version.split()[0])
print("numpy:", numpy.__version__)
print("pandas:", pd.__version__)
print("scikit-learn:", sklearn.__version__)
print("scipy:", scipy.__version__)
print("matplotlib:", matplotlib.__version__)
print("seaborn:", seaborn.__version__)
print("mlflow:", mlflow.__version__)


import os, pathlib, sys
print("CWD:", os.getcwd())
print("Contenido:", os.listdir())



