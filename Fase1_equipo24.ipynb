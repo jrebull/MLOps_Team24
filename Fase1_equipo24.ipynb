{
 "cells": [
  {
   "cell_type": "markdown",
   "metadata": {
    "id": "PZ-e_gK8dIqV"
   },
   "source": [
    "#Validacion\n",
    "#Test de Sync\n",
    "#**Fase 1 | Avance de Proyecto**\n",
    "\n",
    "###**Maestría en Inteligencia Artificial Aplicada**\n",
    "###**Curso: Operaciones de Aprendizaje Automático**\n",
    "####**Tecnológico de Monterrey**\n",
    "#####**Prof L José Ángel Martínez Navarro**"
   ]
  },
  {
   "cell_type": "markdown",
   "metadata": {},
   "source": [
    "#Prueba de Sync 2"
   ]
  },
  {
   "cell_type": "markdown",
   "metadata": {},
   "source": [
    "#Prueba de Sync 3 Luz\n",
    "\n",
    "\n",
    "# Prueba de Sync de Javi 5"
   ]
  },
  {
   "cell_type": "markdown",
   "metadata": {
    "id": "a4Iz_2rnfIK3"
   },
   "source": [
    "###**Equipo 24:**\n",
    "\n",
    "###\n",
    "A01796937 - Sandra Luz Cervantes Espinoza\n",
    "\n",
    "A01226881 - Héctor Jesús López Meza\n",
    "\n",
    "A01796697 - Mauricio Torres Baena\n",
    "\n",
    "A01795838 - Javier Augusto Rebull Saucedo\n",
    "\n",
    "A01360416 – David Cruz Beltrán"
   ]
  },
  {
   "cell_type": "markdown",
   "metadata": {
    "id": "ScJA0ZkAdeQL"
   },
   "source": [
    "**Información:**\n",
    "\n",
    "*   Dataset Turkish Music Emotion archivo \"Acoustic Features.csv\".\n"
   ]
  },
  {
   "cell_type": "code",
   "execution_count": null,
   "metadata": {
    "id": "WgYhkVetDbmh"
   },
   "outputs": [],
   "source": [
    "import numpy as np\n",
    "import pandas as pd\n",
    "import matplotlib.pyplot as plt\n",
    "import seaborn as sns\n",
    "import os\n",
    "\n",
    "from scipy import stats\n",
    "from sklearn.metrics  import accuracy_score\n",
    "from sklearn.metrics import confusion_matrix\n",
    "from sklearn.decomposition import PCA\n",
    "from sklearn.pipeline import Pipeline\n",
    "from sklearn.model_selection import train_test_split, cross_val_score\n",
    "from sklearn.preprocessing import LabelEncoder, StandardScaler\n",
    "from sklearn.metrics import classification_report, confusion_matrix\n",
    "from sklearn.tree import DecisionTreeClassifier\n",
    "from sklearn.model_selection import GridSearchCV\n",
    "from sklearn.neighbors import KNeighborsClassifier\n",
    "from sklearn.naive_bayes import GaussianNB\n",
    "from sklearn.ensemble import RandomForestClassifier\n",
    "from sklearn.svm import SVC\n",
    "from sklearn.linear_model import LogisticRegression\n",
    "from sklearn.neural_network import MLPClassifier"
   ]
  },
  {
   "cell_type": "code",
   "execution_count": null,
   "metadata": {
    "colab": {
     "base_uri": "https://localhost:8080/",
     "height": 312
    },
    "id": "SayhfMDbjuhA",
    "outputId": "a1448115-e730-4c78-80ee-4244be22200d"
   },
   "outputs": [],
   "source": [
    "# Cargamos desde PC\n",
    "from google.colab import files\n",
    "uploaded = files.upload()\n",
    "\n",
    "df = pd.read_csv(\"Acoustic Features.csv\")\n",
    "df.head()"
   ]
  },
  {
   "cell_type": "markdown",
   "metadata": {
    "id": "uJ6X6y9-5Up3"
   },
   "source": [
    "#**Proceso**\n",
    "\n",
    "**Análisis exploratorio (EDA):**\n",
    "\n",
    "*   Análisis descriptivo\n",
    "* Análisis de variables numéricas\n",
    "* Análisis de variables de texto\n",
    "* Análisis de correlación (bivariante y multivariante)\n",
    "\n",
    "**Preprocesamiento**\n",
    "* Valores faltantes\n",
    "* Valores atípicos\n",
    "\n",
    "**Ingeniería de características**\n",
    "**Entrenando y evaluando el modelo**\n"
   ]
  },
  {
   "cell_type": "markdown",
   "metadata": {
    "id": "gn3kKEGSI-rB"
   },
   "source": [
    "#**1. Análisis exploratorio (EDA)**"
   ]
  },
  {
   "cell_type": "markdown",
   "metadata": {
    "id": "QaEURjlBjw5-"
   },
   "source": [
    "Estadísticas descriptivas"
   ]
  },
  {
   "cell_type": "code",
   "execution_count": null,
   "metadata": {
    "colab": {
     "base_uri": "https://localhost:8080/",
     "height": 350
    },
    "id": "ooYVR8x65Znv",
    "outputId": "76906500-dbed-4cf5-b850-1025db157d7b"
   },
   "outputs": [],
   "source": [
    "estadisticas_descriptivas = df.describe()\n",
    "estadisticas_descriptivas"
   ]
  },
  {
   "cell_type": "markdown",
   "metadata": {
    "id": "raIzz2QmGqtF"
   },
   "source": [
    "Valores únicos por variable para identificar posibles variables categóricas"
   ]
  },
  {
   "cell_type": "code",
   "execution_count": null,
   "metadata": {
    "colab": {
     "base_uri": "https://localhost:8080/",
     "height": 1000
    },
    "id": "0SV5SZr7GvGz",
    "outputId": "59cc8eee-34b6-4d0a-b5b3-5b5696a0d5dc"
   },
   "outputs": [],
   "source": [
    "data_df_unique = df.nunique()\n",
    "data_df_unique"
   ]
  },
  {
   "cell_type": "markdown",
   "metadata": {
    "id": "Gu8shkx2G3ca"
   },
   "source": [
    "Búsqueda de valores faltantes"
   ]
  },
  {
   "cell_type": "code",
   "execution_count": null,
   "metadata": {
    "colab": {
     "base_uri": "https://localhost:8080/",
     "height": 1000
    },
    "id": "3kA1AUAnG2zZ",
    "outputId": "ce84be89-c106-460a-987e-f66e0203a5fc"
   },
   "outputs": [],
   "source": [
    "data_df_missing = df.isnull().sum()\n",
    "data_df_missing"
   ]
  },
  {
   "cell_type": "markdown",
   "metadata": {
    "id": "HOe8Dk9OHBgz"
   },
   "source": [
    "Diagrama de barras para determinar la frecuencia de las emociones"
   ]
  },
  {
   "cell_type": "code",
   "execution_count": null,
   "metadata": {
    "colab": {
     "base_uri": "https://localhost:8080/",
     "height": 449
    },
    "id": "VbWVO7QuHDUy",
    "outputId": "f3805629-c06a-453e-aeaf-ab14ee524bf7"
   },
   "outputs": [],
   "source": [
    "sns.countplot(x='Class', data=df)\n",
    "plt.show()"
   ]
  },
  {
   "cell_type": "markdown",
   "metadata": {
    "id": "xfNM17feBA87"
   },
   "source": [
    "\n",
    "Histogramas para cada característica numérica, para ver qué tan equilibrados están los datos"
   ]
  },
  {
   "cell_type": "code",
   "execution_count": null,
   "metadata": {
    "colab": {
     "base_uri": "https://localhost:8080/",
     "height": 467
    },
    "id": "fzdmZGk7BBeB",
    "outputId": "9f7b0276-e8fa-4342-c9b4-3821af1b2754"
   },
   "outputs": [],
   "source": [
    "hist = df.hist(bins=30, sharey=True, figsize=(16, 12))\n",
    "plt.tight_layout(pad=3.0)\n",
    "plt.show()"
   ]
  },
  {
   "cell_type": "markdown",
   "metadata": {
    "id": "IF1tX99w89F1"
   },
   "source": [
    "Tablas de frecuencia para cada característica categórica"
   ]
  },
  {
   "cell_type": "code",
   "execution_count": null,
   "metadata": {
    "colab": {
     "base_uri": "https://localhost:8080/",
     "height": 225
    },
    "id": "2Aerhp9lDPYi",
    "outputId": "11e0875e-75e3-4d56-e5a8-5053a0a1cc68"
   },
   "outputs": [],
   "source": [
    "for column in df.select_dtypes(include=[ 'object', 'bool']).columns:\n",
    "  display(column, pd.crosstab(index=df[column], columns='% observations', normalize='columns') * 100)"
   ]
  },
  {
   "cell_type": "code",
   "execution_count": null,
   "metadata": {
    "colab": {
     "base_uri": "https://localhost:8080/",
     "height": 444
    },
    "id": "skHKXqq1IGGM",
    "outputId": "fc20ec0c-691e-45d5-aa81-bfe204068b5c"
   },
   "outputs": [],
   "source": [
    "label_encoder = LabelEncoder()\n",
    "df[\"Class\"] = label_encoder.fit_transform(df['Class'])\n",
    "df"
   ]
  },
  {
   "cell_type": "code",
   "execution_count": null,
   "metadata": {
    "colab": {
     "base_uri": "https://localhost:8080/",
     "height": 1000
    },
    "id": "luLfOKl_H-0H",
    "outputId": "9221b9fd-1011-47a3-b396-ea7d6bad4bc7"
   },
   "outputs": [],
   "source": [
    "df.corr()"
   ]
  },
  {
   "cell_type": "markdown",
   "metadata": {
    "id": "PnwekFCkH4YZ"
   },
   "source": [
    "mapa de calor que cuantifique la correlación de las variables numéricas en el dataframe"
   ]
  },
  {
   "cell_type": "code",
   "execution_count": null,
   "metadata": {
    "colab": {
     "base_uri": "https://localhost:8080/",
     "height": 564
    },
    "id": "rwZG-AXRH5ea",
    "outputId": "dd9627ce-6025-4bd9-c330-2b1ce1f9ddd6"
   },
   "outputs": [],
   "source": [
    "data_df_numeric = df.select_dtypes(include=[np.number])\n",
    "\n",
    "data_df_corr = data_df_numeric.corr()\n",
    "\n",
    "plt.figure(figsize=(18,12))\n",
    "sns.heatmap(data_df_corr, annot=True, linewidths=0.5)\n",
    "plt.show()"
   ]
  },
  {
   "cell_type": "markdown",
   "metadata": {
    "id": "wqxy0udl7oKI"
   },
   "source": [
    "#**Ingeniería de características**"
   ]
  },
  {
   "cell_type": "markdown",
   "metadata": {
    "id": "n6Emite29Bs5"
   },
   "source": [
    "Media, mediana, desviación estándar por clase"
   ]
  },
  {
   "cell_type": "code",
   "execution_count": null,
   "metadata": {
    "colab": {
     "base_uri": "https://localhost:8080/",
     "height": 1000
    },
    "id": "to0dAzGt7zJa",
    "outputId": "e200fdaa-ea3a-4ba5-9790-441ce7871a8b"
   },
   "outputs": [],
   "source": [
    "if 'Class' in df.columns:\n",
    "    numeric_cols = df.select_dtypes(include=[float, int]).columns\n",
    "    numeric_cols = numeric_cols.drop('Class', errors='ignore')\n",
    "    for col in numeric_cols[:5]:\n",
    "        plt.figure(figsize=(6, 3))\n",
    "        sns.boxplot(x='Class', y=col, data=df)\n",
    "        plt.title(f\"Boxplot de {col} por clase\")\n",
    "        plt.tight_layout()\n",
    "        plt.show()\n",
    "else:\n",
    "    print(\"La columna 'Class' no existe en el DataFrame.\")\n"
   ]
  },
  {
   "cell_type": "markdown",
   "metadata": {
    "id": "21lad5bj7-Xv"
   },
   "source": [
    "Histogramas"
   ]
  },
  {
   "cell_type": "code",
   "execution_count": null,
   "metadata": {
    "colab": {
     "base_uri": "https://localhost:8080/",
     "height": 1000
    },
    "id": "p9sn6ww878Lp",
    "outputId": "802a29c0-7b88-45f8-befe-d479612f9baf"
   },
   "outputs": [],
   "source": [
    "for col in numeric_cols[:5]:\n",
    "    plt.figure(figsize=(5,3))\n",
    "    sns.kdeplot(data=df, x=col, hue=\"Class\", fill=True)\n",
    "    plt.title(f\"Densidad de {col}\")\n",
    "    plt.tight_layout()\n",
    "    plt.show()\n"
   ]
  },
  {
   "cell_type": "markdown",
   "metadata": {
    "id": "ADVX9IZ-8BD0"
   },
   "source": [
    "Correlaciones"
   ]
  },
  {
   "cell_type": "markdown",
   "metadata": {
    "id": "h1KIwNTo8LMN"
   },
   "source": [
    "#**Detección de valores atípicos (outliers)**"
   ]
  },
  {
   "cell_type": "markdown",
   "metadata": {
    "id": "iYcOjsmU9m6p"
   },
   "source": [
    "Z‑score: marcar valores cuyo z > 3 o < −3:"
   ]
  },
  {
   "cell_type": "code",
   "execution_count": null,
   "metadata": {
    "colab": {
     "base_uri": "https://localhost:8080/",
     "height": 398
    },
    "id": "E3UEdLN68FzT",
    "outputId": "cf8ea7fd-c267-4a42-f1e6-be8f13ed2133"
   },
   "outputs": [],
   "source": [
    "z_scores = np.abs(stats.zscore(df[numeric_cols], nan_policy='omit'))\n",
    "outlier_mask = (z_scores > 3)\n",
    "outlier_counts = outlier_mask.sum(axis=0)\n",
    "outlier_counts_series = pd.Series(outlier_counts, index=numeric_cols)\n",
    "outlier_counts_series.sort_values(ascending=False).head(10)\n"
   ]
  },
  {
   "cell_type": "markdown",
   "metadata": {
    "id": "dHqgAbNA8RpD"
   },
   "source": [
    "IQR (Interquartile Range)"
   ]
  },
  {
   "cell_type": "code",
   "execution_count": null,
   "metadata": {
    "colab": {
     "base_uri": "https://localhost:8080/",
     "height": 398
    },
    "id": "rKogY3HY8U1P",
    "outputId": "091783d4-b77a-4caa-f0a8-ec2191648c81"
   },
   "outputs": [],
   "source": [
    "Q1 = df[numeric_cols].quantile(0.25)\n",
    "Q3 = df[numeric_cols].quantile(0.75)\n",
    "IQR = Q3 - Q1\n",
    "\n",
    "is_outlier = ((df[numeric_cols] < (Q1 - 1.5 * IQR)) |\n",
    "              (df[numeric_cols] > (Q3 + 1.5 * IQR)))\n",
    "# cuenta\n",
    "is_outlier.sum().sort_values(ascending=False).head(10)"
   ]
  },
  {
   "cell_type": "markdown",
   "metadata": {
    "id": "bGdBjOom8bHQ"
   },
   "source": [
    "#**Limpieza y tratamiento de datos**"
   ]
  },
  {
   "cell_type": "markdown",
   "metadata": {
    "id": "_mO3cSpe8eoM"
   },
   "source": [
    "Asegurar que la columna Class solo contiene las etiquetas esperadas y asegurar que las columnas numéricas no tienen valores “inf“, “NaN” u otros artefactos"
   ]
  },
  {
   "cell_type": "code",
   "execution_count": null,
   "metadata": {
    "colab": {
     "base_uri": "https://localhost:8080/"
    },
    "id": "0fhz0zQV8mPv",
    "outputId": "cd98d0d6-1a8a-4cc0-9be7-a1b461d686ee"
   },
   "outputs": [],
   "source": [
    "print(df[\"Class\"].unique())"
   ]
  },
  {
   "cell_type": "markdown",
   "metadata": {
    "id": "HFopSUHc8t2J"
   },
   "source": [
    "Revisar duplicados\n"
   ]
  },
  {
   "cell_type": "code",
   "execution_count": null,
   "metadata": {
    "colab": {
     "base_uri": "https://localhost:8080/"
    },
    "id": "ZtayZOJ-8obB",
    "outputId": "d9bc614a-f5a0-41d6-aca1-d57df8ad76a6"
   },
   "outputs": [],
   "source": [
    "dup_count = df.duplicated().sum()\n",
    "print(\"Duplicados:\", dup_count)\n",
    "if dup_count > 0:\n",
    "    df = df.drop_duplicates()\n"
   ]
  },
  {
   "cell_type": "markdown",
   "metadata": {
    "id": "oI4NWtdk_7UT"
   },
   "source": [
    "TODO: Eliminar columnas constantes (desviación cero)"
   ]
  },
  {
   "cell_type": "code",
   "execution_count": null,
   "metadata": {
    "colab": {
     "base_uri": "https://localhost:8080/"
    },
    "id": "dXi8IJ78AFJb",
    "outputId": "3c992338-a1a2-44ed-8343-06a62e2c24f0"
   },
   "outputs": [],
   "source": [
    "stds = df[numeric_cols].std()\n",
    "zero_std = stds[stds == 0].index.tolist()\n",
    "print(\"Columnas constantes:\", zero_std)\n",
    "df = df.drop(columns=zero_std)"
   ]
  },
  {
   "cell_type": "markdown",
   "metadata": {},
   "source": [
    "Version dataset limpio"
   ]
  },
  {
   "cell_type": "code",
   "execution_count": null,
   "metadata": {},
   "outputs": [],
   "source": [
    "df_original.to_csv(\"turkish_music_emotion_raw.csv\", index=False)\n",
    "df.to_csv(\"turkish_music_emotion_cleaned.csv\", index=False)"
   ]
  },
  {
   "cell_type": "code",
   "execution_count": null,
   "metadata": {
    "colab": {
     "base_uri": "https://localhost:8080/",
     "height": 444
    },
    "id": "QIYT-qfsHzNX",
    "outputId": "6eb41464-3a80-47fb-98d1-9dd6925d37f5"
   },
   "outputs": [],
   "source": [
    "X = df.loc[:,df.columns != \"Class\"]\n",
    "Y = df.loc[:,df.columns == \"Class\"]\n",
    "X"
   ]
  },
  {
   "cell_type": "code",
   "execution_count": null,
   "metadata": {
    "id": "lNXhk80SHWtX"
   },
   "outputs": [],
   "source": [
    "X_train, X_test, Y_train, Y_test = train_test_split(X,Y, test_size=0.3,random_state=42)"
   ]
  },
  {
   "cell_type": "code",
   "execution_count": null,
   "metadata": {
    "id": "eqwDXUb5HWtX"
   },
   "outputs": [],
   "source": [
    "standardscaler = StandardScaler()\n",
    "x_train = standardscaler.fit_transform(X_train)\n",
    "x_test = standardscaler.transform(X_test)"
   ]
  },
  {
   "cell_type": "markdown",
   "metadata": {
    "id": "mGkSg622HWtX"
   },
   "source": [
    "**Logistic Regression**"
   ]
  },
  {
   "cell_type": "code",
   "execution_count": null,
   "metadata": {
    "colab": {
     "base_uri": "https://localhost:8080/"
    },
    "id": "ifHbmTZ1HWtX",
    "outputId": "4d7555b9-b252-4aeb-def4-b0056a3d462f"
   },
   "outputs": [],
   "source": [
    "logrregression = LogisticRegression(random_state=0)\n",
    "logrregression.fit(x_train,Y_train.values.ravel())\n",
    "y_pred = logrregression.predict(x_test)\n",
    "print(y_pred)\n",
    "print(Y_test)"
   ]
  },
  {
   "cell_type": "code",
   "execution_count": null,
   "metadata": {
    "colab": {
     "base_uri": "https://localhost:8080/"
    },
    "id": "N0riIX4LIf6x",
    "outputId": "8ccdc15c-ddbd-4f46-fc97-e0020332c17c"
   },
   "outputs": [],
   "source": [
    "accuracy = accuracy_score(Y_test,y_pred)\n",
    "print(accuracy)"
   ]
  },
  {
   "cell_type": "code",
   "execution_count": null,
   "metadata": {
    "colab": {
     "base_uri": "https://localhost:8080/"
    },
    "id": "bDr6Iz3eIeQt",
    "outputId": "0490d226-66c6-4e60-8cfe-a41e83f7e21c"
   },
   "outputs": [],
   "source": [
    "cm = confusion_matrix(Y_test,y_pred)\n",
    "cm"
   ]
  },
  {
   "cell_type": "markdown",
   "metadata": {
    "id": "ktvNlJ9AI0Wz"
   },
   "source": [
    "**KNN Classification**"
   ]
  },
  {
   "cell_type": "code",
   "execution_count": null,
   "metadata": {
    "colab": {
     "base_uri": "https://localhost:8080/"
    },
    "id": "I2RNc7LUI4l7",
    "outputId": "651cfe1b-d874-4a56-f65b-69b3242acf77"
   },
   "outputs": [],
   "source": [
    "model = KNeighborsClassifier()\n",
    "model.fit(x_train, Y_train.values.ravel())\n",
    "y_pred = model.predict(x_test)\n",
    "print(accuracy_score(Y_test,y_pred))"
   ]
  },
  {
   "cell_type": "code",
   "execution_count": null,
   "metadata": {
    "colab": {
     "base_uri": "https://localhost:8080/"
    },
    "id": "LCRBBvfqI5Wp",
    "outputId": "bf4bf858-c7b0-40bc-acc8-513cf9bb96cd"
   },
   "outputs": [],
   "source": [
    "cm = confusion_matrix(Y_test,y_pred)\n",
    "cm"
   ]
  },
  {
   "cell_type": "code",
   "execution_count": null,
   "metadata": {
    "colab": {
     "base_uri": "https://localhost:8080/"
    },
    "id": "fQLkrdwII6xT",
    "outputId": "dd9c6ea4-e303-4abc-a007-583da4328adb"
   },
   "outputs": [],
   "source": [
    "model = KNeighborsClassifier(metric=\"manhattan\")\n",
    "model.fit(x_train, Y_train.values.ravel())\n",
    "y_pred = model.predict(x_test)\n",
    "print(accuracy_score(Y_test,y_pred))"
   ]
  },
  {
   "cell_type": "code",
   "execution_count": null,
   "metadata": {
    "colab": {
     "base_uri": "https://localhost:8080/"
    },
    "id": "FpDlpDYiJOtF",
    "outputId": "30d5c0c4-3f47-4182-869a-5d044f8827d8"
   },
   "outputs": [],
   "source": [
    "cm = confusion_matrix(Y_test,y_pred)\n",
    "cm"
   ]
  },
  {
   "cell_type": "markdown",
   "metadata": {
    "id": "GWW60DVCJQ0d"
   },
   "source": [
    "**Support Vector Machine**"
   ]
  },
  {
   "cell_type": "code",
   "execution_count": null,
   "metadata": {
    "colab": {
     "base_uri": "https://localhost:8080/"
    },
    "id": "sXQ5jOXAJS71",
    "outputId": "0b15248b-d416-4e64-c39c-160f62f679ea"
   },
   "outputs": [],
   "source": [
    "svc = SVC(kernel='linear')\n",
    "svc.fit(x_train,Y_train.values.ravel())\n",
    "y_pred = svc.predict(x_test)\n",
    "print(accuracy_score(Y_test,y_pred))"
   ]
  },
  {
   "cell_type": "code",
   "execution_count": null,
   "metadata": {
    "colab": {
     "base_uri": "https://localhost:8080/"
    },
    "id": "vJJTe5r-JVDC",
    "outputId": "7898bf25-8dc4-48a6-d80a-30b17044672d"
   },
   "outputs": [],
   "source": [
    "cm = confusion_matrix(Y_test,y_pred)\n",
    "cm"
   ]
  },
  {
   "cell_type": "code",
   "execution_count": null,
   "metadata": {
    "colab": {
     "base_uri": "https://localhost:8080/"
    },
    "id": "kZJr4QlzJWyb",
    "outputId": "6ced62d7-c6d0-4572-fe1b-df893827eeb4"
   },
   "outputs": [],
   "source": [
    "svc = SVC(kernel='rbf')\n",
    "svc.fit(x_train,Y_train.values.ravel())\n",
    "y_pred = svc.predict(x_test)\n",
    "print(accuracy_score(Y_test,y_pred))"
   ]
  },
  {
   "cell_type": "code",
   "execution_count": null,
   "metadata": {
    "colab": {
     "base_uri": "https://localhost:8080/"
    },
    "id": "0ZAXYVPtJXZ2",
    "outputId": "a7f60553-23fb-418e-ea79-253516f92c44"
   },
   "outputs": [],
   "source": [
    "cm = confusion_matrix(Y_test,y_pred)\n",
    "cm"
   ]
  },
  {
   "cell_type": "markdown",
   "metadata": {
    "id": "4t_cVKBWJZ5i"
   },
   "source": [
    "**Gaussian Naive Bayes**"
   ]
  },
  {
   "cell_type": "code",
   "execution_count": null,
   "metadata": {
    "colab": {
     "base_uri": "https://localhost:8080/"
    },
    "id": "L5do-AIIJbwK",
    "outputId": "852981bf-05bc-4465-8143-c85a9fb9ab4f"
   },
   "outputs": [],
   "source": [
    "gnb = GaussianNB()\n",
    "gnb.fit(x_train,Y_train.values.ravel())\n",
    "y_pred = gnb.predict(x_test)\n",
    "print(accuracy_score(Y_test,y_pred))"
   ]
  },
  {
   "cell_type": "code",
   "execution_count": null,
   "metadata": {
    "colab": {
     "base_uri": "https://localhost:8080/"
    },
    "id": "6bkoTTznJl4j",
    "outputId": "ce9b4d58-6e0a-436f-eec5-461aeea7ba87"
   },
   "outputs": [],
   "source": [
    "cm = confusion_matrix(Y_test,y_pred)\n",
    "cm"
   ]
  },
  {
   "cell_type": "markdown",
   "metadata": {
    "id": "7BhTZ0obJnwu"
   },
   "source": [
    "**Decision Tree**"
   ]
  },
  {
   "cell_type": "code",
   "execution_count": null,
   "metadata": {
    "colab": {
     "base_uri": "https://localhost:8080/"
    },
    "id": "NivsKKnSJpQZ",
    "outputId": "f183d1f7-b670-4b41-a9ca-4cfb58ee39e9"
   },
   "outputs": [],
   "source": [
    "dtc = DecisionTreeClassifier(criterion=\"entropy\")\n",
    "dtc.fit(x_train,Y_train.values.ravel())\n",
    "y_pred = dtc.predict(x_test)\n",
    "print(accuracy_score(Y_test,y_pred))"
   ]
  },
  {
   "cell_type": "code",
   "execution_count": null,
   "metadata": {
    "colab": {
     "base_uri": "https://localhost:8080/"
    },
    "id": "iB_bpbt7JxaK",
    "outputId": "f6d29e87-edec-4e37-c30e-e87c9c81085d"
   },
   "outputs": [],
   "source": [
    "cm = confusion_matrix(Y_test,y_pred)\n",
    "cm"
   ]
  },
  {
   "cell_type": "markdown",
   "metadata": {
    "id": "drEzZ55wJzHq"
   },
   "source": [
    "**Random Forest**"
   ]
  },
  {
   "cell_type": "code",
   "execution_count": null,
   "metadata": {
    "colab": {
     "base_uri": "https://localhost:8080/"
    },
    "id": "d3jG2fiGJ2Q9",
    "outputId": "dccaa13b-2e01-4834-cbd4-1569fb7dd939"
   },
   "outputs": [],
   "source": [
    "rfc = RandomForestClassifier()\n",
    "rfc.fit(x_train,Y_train.values.ravel())\n",
    "y_pred = rfc.predict(x_test)\n",
    "print(accuracy_score(Y_test,y_pred))"
   ]
  },
  {
   "cell_type": "code",
   "execution_count": null,
   "metadata": {
    "colab": {
     "base_uri": "https://localhost:8080/"
    },
    "id": "VI65nv2wJ4U1",
    "outputId": "e6c33c18-aaba-423e-80a7-3129dc3ae007"
   },
   "outputs": [],
   "source": [
    "cm = confusion_matrix(Y_test,y_pred)\n",
    "cm"
   ]
  },
  {
   "cell_type": "markdown",
   "metadata": {
    "id": "AXWflb-LJ5sC"
   },
   "source": [
    "**Dimensionality Reduction**"
   ]
  },
  {
   "cell_type": "code",
   "execution_count": null,
   "metadata": {
    "colab": {
     "base_uri": "https://localhost:8080/",
     "height": 444
    },
    "id": "--7JiXy7J71V",
    "outputId": "4668f01e-4450-44ad-df99-f3881bacd002"
   },
   "outputs": [],
   "source": [
    "pca = PCA(n_components=8)\n",
    "pca.fit(X)\n",
    "x_pca = pca.transform(X)\n",
    "transformed = pd.DataFrame(x_pca)\n",
    "X=transformed\n",
    "X"
   ]
  },
  {
   "cell_type": "code",
   "execution_count": null,
   "metadata": {
    "id": "aW9ZXhTKJ-Dm"
   },
   "outputs": [],
   "source": [
    "X_train, X_test, Y_train, Y_test = train_test_split(X,Y, test_size=0.3,random_state=42)"
   ]
  },
  {
   "cell_type": "code",
   "execution_count": null,
   "metadata": {
    "id": "ssAIgFE_KAcr"
   },
   "outputs": [],
   "source": [
    "x_train = standardscaler.fit_transform(X_train)\n",
    "x_test = standardscaler.transform(X_test)"
   ]
  },
  {
   "cell_type": "code",
   "execution_count": null,
   "metadata": {
    "colab": {
     "base_uri": "https://localhost:8080/",
     "height": 80
    },
    "id": "1zn0YgiFKB1N",
    "outputId": "ea75ca05-6baf-46a7-97a8-47d49dd4c214"
   },
   "outputs": [],
   "source": [
    "classifier = KNeighborsClassifier()\n",
    "classifier.fit(x_train, Y_train.values.ravel())"
   ]
  },
  {
   "cell_type": "code",
   "execution_count": null,
   "metadata": {
    "colab": {
     "base_uri": "https://localhost:8080/"
    },
    "id": "t_2FgxidKGDz",
    "outputId": "92f1ab44-852f-4a57-9fff-f14b2f49bbbc"
   },
   "outputs": [],
   "source": [
    "y_pred = classifier.predict(x_test)\n",
    "print(accuracy_score(Y_test,y_pred))"
   ]
  },
  {
   "cell_type": "markdown",
   "metadata": {
    "id": "D1mlWByZKclM"
   },
   "source": [
    "**Hyperparameter Optimization**"
   ]
  },
  {
   "cell_type": "code",
   "execution_count": null,
   "metadata": {
    "colab": {
     "base_uri": "https://localhost:8080/"
    },
    "id": "z1gMDxu2KfGV",
    "outputId": "3048d80c-7f92-42d6-e098-b2de3951fd1a"
   },
   "outputs": [],
   "source": [
    "scaler = StandardScaler()\n",
    "X_train_scaled = scaler.fit_transform(X_train)\n",
    "X_test_scaled = scaler.transform(X_test)\n",
    "\n",
    "\n",
    "pipeline = Pipeline([\n",
    "    ('scaler', StandardScaler()),\n",
    "    ('classifier', LogisticRegression(solver='lbfgs', max_iter=1000))\n",
    "])\n",
    "\n",
    "param_grid = {'classifier__C': [0.001, 0.01, 0.1, 0.15, 0.2, 0.25, 0.3, 0.4, 0.5, 0.6, 0.7, 0.8, 0.9, 1, 10, 100]}\n",
    "\n",
    "grid_search = GridSearchCV(pipeline, param_grid, cv=10, scoring='accuracy')\n",
    "grid_search.fit(X_train_scaled, Y_train)\n",
    "\n",
    "# Get the best hyperparameters and accuracy\n",
    "best_C = grid_search.best_params_['classifier__C']\n",
    "best_accuracy = grid_search.best_score_\n",
    "print(\"Best C:\", best_C)\n",
    "print(\"Best Accuracy:\", best_accuracy)\n"
   ]
  },
  {
   "cell_type": "markdown",
   "metadata": {
    "id": "LDLSslkYLJ96"
   },
   "source": [
    "**Model Evaluation**"
   ]
  },
  {
   "cell_type": "code",
   "execution_count": null,
   "metadata": {
    "id": "T-KA2xwcLMsT"
   },
   "outputs": [],
   "source": [
    "TODO: El mejor modelo es"
   ]
  },
  {
   "cell_type": "code",
   "execution_count": null,
   "metadata": {
    "id": "s6FLhwvxLLSr"
   },
   "outputs": [],
   "source": []
  }
 ],
 "metadata": {
  "colab": {
   "include_colab_link": true,
   "provenance": []
  },
  "kernelspec": {
   "display_name": ".venv",
   "language": "python",
   "name": "python3"
  },
  "language_info": {
   "codemirror_mode": {
    "name": "ipython",
    "version": 3
   },
   "file_extension": ".py",
   "mimetype": "text/x-python",
   "name": "python",
   "nbconvert_exporter": "python",
   "pygments_lexer": "ipython3",
   "version": "3.12.0"
  }
 },
 "nbformat": 4,
 "nbformat_minor": 0
}
